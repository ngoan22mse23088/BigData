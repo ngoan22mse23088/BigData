{
  "nbformat": 4,
  "nbformat_minor": 0,
  "metadata": {
    "colab": {
      "provenance": [],
      "include_colab_link": true
    },
    "kernelspec": {
      "name": "python3",
      "display_name": "Python 3"
    },
    "language_info": {
      "name": "python"
    }
  },
  "cells": [
    {
      "cell_type": "markdown",
      "metadata": {
        "id": "view-in-github",
        "colab_type": "text"
      },
      "source": [
        "<a href=\"https://colab.research.google.com/github/ngoan22mse23088/BigData/blob/master/Lab4.ipynb\" target=\"_parent\"><img src=\"https://colab.research.google.com/assets/colab-badge.svg\" alt=\"Open In Colab\"/></a>"
      ]
    },
    {
      "cell_type": "markdown",
      "metadata": {
        "id": "roAyNwmf67Cl"
      },
      "source": [
        "## Exercise 1\n",
        "Write a function to compute the below formualation with the use of map function\n",
        "\\begin{equation}\n",
        "x^2 + y^2 - r^2\n",
        "\\end{equation}\n",
        "\n",
        "then, print out the values of the equation at these below values of $x$, $y$ and $z$\n",
        "```\n",
        "x = [1,2,3,4,5,6]\n",
        "y = [2,3,4,5,6,7]\n",
        "r = [1,1,3,3,4,5]\n",
        "\n",
        "```"
      ]
    },
    {
      "cell_type": "markdown",
      "metadata": {
        "id": "jbbvCewW-Zib"
      },
      "source": [
        "## Exercise 2\n",
        "\n",
        "Write a function that take input as a list of words and return to a list of integers representing the lengths of the correponding words.\n",
        "\n",
        "Write it in three different ways:\n",
        "1. using a for-loop,\n",
        "2. using function `map()`, and\n",
        "3. using list comprehensions."
      ]
    },
    {
      "cell_type": "markdown",
      "metadata": {
        "id": "wJwBpx3CB6Mz"
      },
      "source": [
        "## Exercise 3\n",
        "\n",
        "Implement a program to make a list whose elements are double string of a string `re` (i.e., `rere`), where `re` is the first two characters of approriate elements in this list:\n",
        "\n",
        "`['real', 'rock', 'realize', 'rocket', 'red', 'eraser' , '7', 8 , 9, 10]`."
      ]
    },
    {
      "cell_type": "code",
      "source": [],
      "metadata": {
        "id": "TvyLK6aekEq6"
      },
      "execution_count": null,
      "outputs": []
    },
    {
      "cell_type": "markdown",
      "metadata": {
        "id": "FmUuMocREUy4"
      },
      "source": [
        "## Exercise 4\n",
        "\n",
        "Write a function `max_in_list()` that takes a list of numbers and returns the largest one using `reduce()` in lib `functools`"
      ]
    },
    {
      "cell_type": "markdown",
      "source": [
        "## Exercise 5\n",
        "\n",
        "Using Python `map` to write a Python program to triple all numbers of a given list of integers."
      ],
      "metadata": {
        "id": "HH2WAgksg9wM"
      }
    },
    {
      "cell_type": "markdown",
      "source": [
        "## Exercise 6\n",
        "Implement parallel processing using `map()` to apply a function across multiple elements of an iterable concurrently, and then use `reduce()` to aggregate the results."
      ],
      "metadata": {
        "id": "xv0H5iw_5_mm"
      }
    },
    {
      "cell_type": "code",
      "source": [],
      "metadata": {
        "id": "4FUQmmUylEbl"
      },
      "execution_count": null,
      "outputs": []
    },
    {
      "cell_type": "markdown",
      "source": [
        "## Exercise 7\n",
        "Implement a MapReduce-style function to process data distributed across multiple nodes or workers."
      ],
      "metadata": {
        "id": "IF_ouBU-6IYz"
      }
    },
    {
      "cell_type": "code",
      "source": [],
      "metadata": {
        "id": "C9oaW2et6XV5"
      },
      "execution_count": null,
      "outputs": []
    }
  ]
}